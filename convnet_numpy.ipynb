{
  "nbformat": 4,
  "nbformat_minor": 0,
  "metadata": {
    "colab": {
      "name": "convnet_numpy.ipynb",
      "version": "0.3.2",
      "provenance": [],
      "include_colab_link": true
    },
    "kernelspec": {
      "name": "python3",
      "display_name": "Python 3"
    }
  },
  "cells": [
    {
      "cell_type": "markdown",
      "metadata": {
        "id": "view-in-github",
        "colab_type": "text"
      },
      "source": [
        "[View in Colaboratory](https://colab.research.google.com/github/subarnop/AMachineLearningWalkThrough/blob/master/convnet_numpy.ipynb)"
      ]
    },
    {
      "metadata": {
        "id": "hhMgqnUHrfPI",
        "colab_type": "text"
      },
      "cell_type": "markdown",
      "source": [
        "In this notebook we bulid a convolution neural network from scratch using just numpy. If u are building any image classifier we strongly recommend u to use libraries like keras or pytorch. This code is just for learning the calculations behind a conv net."
      ]
    },
    {
      "metadata": {
        "id": "jDDWILrSrP5r",
        "colab_type": "code",
        "colab": {}
      },
      "cell_type": "code",
      "source": [
        "import numpy"
      ],
      "execution_count": 0,
      "outputs": []
    }
  ]
}